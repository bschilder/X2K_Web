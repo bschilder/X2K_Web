{
 "cells": [
  {
   "cell_type": "markdown",
   "metadata": {
    "collapsed": true
   },
   "source": [
    "# Summary of X2K Random Search"
   ]
  },
  {
   "cell_type": "markdown",
   "metadata": {},
   "source": [
    "## Import data"
   ]
  },
  {
   "cell_type": "code",
   "execution_count": null,
   "metadata": {},
   "outputs": [],
   "source": [
    "import pandas as pd\n",
    "results = pd.read_csv('Data/process.csv')\n",
    "# 'score' = -log(pvalue) of each predicted kinase\n",
    "# pval = 1 when kinase is non-sig\n",
    "# pval = nan when X2K timed-out/crashed\n",
    "results.head()\n",
    "\n",
    "\n",
    "\n",
    "def transformDF(resultsDF, selectCols):\n",
    "    newDF = pd.DataFrame()\n",
    "    for col in selectCols:\n",
    "        db = col.split('.')[1]\n",
    "        sub = results.loc[results[col]==1, ['score']]\n",
    "        sub['Database'] = db\n",
    "        newDF = pd.concat([newDF, sub])\n",
    "    newDF =  newDF.sort_values(by='score')\n",
    "    groupedDF = newDF.groupby('Database')['score'].mean().reset_index()\n",
    "    groupedDF = groupedDF.sort_values(by='score')\n",
    "    return newDF, groupedDF"
   ]
  },
  {
   "cell_type": "markdown",
   "metadata": {},
   "source": [
    "## TF Database Plots"
   ]
  },
  {
   "cell_type": "code",
   "execution_count": null,
   "metadata": {},
   "outputs": [],
   "source": [
    "tfCols= [x for x in results.columns if x.startswith('TF-target')]\n",
    "newDF, groupedDF = transformDF(results, tfCols)\n",
    "\n",
    "# Plot score by database \n",
    "## Bar plot\n",
    "groupedDF.plot(x='Database', y='score', kind='bar', alpha=.8, legend=None, title='TF Databases')    \n",
    "plt.xticks(rotation=45, ha='right')\n",
    "plt.ylabel('-log(Pvalue)')\n",
    "\n",
    "## Box plot\n",
    "import seaborn as sns\n",
    "orderedCols = newDF.groupby('Database').mean().sort_values(by='score').index\n",
    "ax = sns.boxplot(x=\"Database\", y=\"score\", data=newDF, order=orderedCols).set_title('TF Databases')\n",
    "plt.xticks(rotation=45, ha='right')\n",
    "plt.ylabel('-log(Pvalue)')\n",
    "#plt.ylim((0,5))"
   ]
  },
  {
   "cell_type": "markdown",
   "metadata": {},
   "source": [
    "## PPI Database Plots"
   ]
  },
  {
   "cell_type": "code",
   "execution_count": null,
   "metadata": {},
   "outputs": [],
   "source": [
    "# Setup DF\n",
    "ppiDBCols = [x for x in results.columns if x.startswith('enable_ppi.')]\n",
    "len(ppiDBCols)\n",
    "newDF, groupedDF = transformDF(results, ppiDBCols)\n",
    "\n",
    "\n",
    "# Plot score by database \n",
    "## Bar plot\n",
    "groupedDF.plot(x='Database', y='score', kind='bar', alpha=.8, legend=None)    \n",
    "plt.xticks(rotation=45, ha='right')\n",
    "plt.ylabel('-log(Pvalue)')\n",
    "\n",
    "## Box plot\n",
    "import seaborn as sns\n",
    "orderedCols = newDF.groupby('Database').mean().sort_values(by='score').index\n",
    "ax = sns.boxplot(x=\"Database\", y=\"score\", data=newDF, order=orderedCols)\n",
    "plt.xticks(rotation=45, ha='right')\n",
    "plt.ylabel('-log(Pvalue)')\n",
    "plt.ylim((0,5))\n",
    "\n",
    "# # Violin plot (looks awful)\n",
    "# sns.violinplot(x='Database', y=\"score\", data=newDF, palette=\"BuPu\", boxprops=dict(alpha=.7))"
   ]
  },
  {
   "cell_type": "code",
   "execution_count": null,
   "metadata": {},
   "outputs": [],
   "source": [
    "## "
   ]
  }
 ],
 "metadata": {
  "kernelspec": {
   "display_name": "Python 3",
   "language": "python",
   "name": "python3"
  },
  "language_info": {
   "codemirror_mode": {
    "name": "ipython",
    "version": 3
   },
   "file_extension": ".py",
   "mimetype": "text/x-python",
   "name": "python",
   "nbconvert_exporter": "python",
   "pygments_lexer": "ipython3",
   "version": "3.6.3"
  }
 },
 "nbformat": 4,
 "nbformat_minor": 1
}
