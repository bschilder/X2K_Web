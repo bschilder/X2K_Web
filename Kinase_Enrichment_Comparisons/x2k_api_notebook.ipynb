{
 "cells": [
  {
   "cell_type": "markdown",
   "metadata": {},
   "source": [
    "# X2K API Tutorial Notebook\n",
    "April 9<sup>th</sup>, 2018\n",
    "\n",
    "This Jupyter Notebook contains an interactive tutorial for **running the Expression2Kinases (X2K) API** using Python 3.\n",
    "\n",
    "### Table of Contents\n",
    "The notebook contains the following sections:\n",
    "1. **<a href=\"#1\">API Documentation</a>** - shows how to programmatically analyze your gene list in Python.\n",
    "2. **<a href=\"#2\">Using the X2K API</a>** - overview of the input parameters and output of the API.\n",
    "3. **<a href=\"#3\">Interpreting the results</a>** - gives an overview of the structure and meaning of the analysis results.\n",
    "    * **<a href=\"#chea\">Transcription Factor Enrichment Analysis</a>** (ChEA)\n",
    "    * **<a href=\"#g2n\">Protein-Protein Interaction Expansion</a>** (G2N)\n",
    "    * **<a href=\"#kea\">Kinase Enrichment Analysis</a>** (KEA)\n",
    "    * **<a href=\"#x2k\">Expression2Kinases</a>** (X2K)"
   ]
  },
  {
   "cell_type": "markdown",
   "metadata": {},
   "source": [
    "## 1. <span id=\"1\">Using the X2K API</span>\n",
    "The X2K API allows for programmatic analysis of an input gene list.\n",
    "\n",
    "The `run_X2K()` function displayed below can be used to analyze a gene list and load the results in a Python dictionary by performing a **POST request**.\n",
    "\n",
    "The function requires only one input, `input_genes`, **a list of gene symbols ** to be analyzed. Additional optional parameters can be specified with the `options` parameters."
   ]
  },
  {
   "cell_type": "code",
   "execution_count": 2,
   "metadata": {},
   "outputs": [
    {
     "name": "stdout",
     "output_type": "stream",
     "text": [
      "/Users/schilder/Desktop/X2K_Web/Kinase_Enrichment_Comparisons\n"
     ]
    }
   ],
   "source": [
    "% cd Kinase_Enrichment_Comparisons\n",
    "\n",
    "import pandas as pd\n",
    "\n",
    "# Standardize genes to HGNC symbols\n",
    "mapping = pd.read_table('../../X2K_Summaries/General_Resources/Moshe_mapping/mappingFile_2017.txt', header=None)\n",
    "greekLetters = pd.read_csv('../../X2K_Summaries/General_Resources/GreekLetter_Converter.csv', names=['Greek', 'Abbrev'], header=0 )\n",
    "greekLetters = greekLetters.apply(lambda x: x.str.strip('\\xa0'))\n",
    "\n",
    "def standardizeGeneSymbol(gene):\n",
    "    if gene.__contains__('AURORA'):\n",
    "        HGNC = 'AURK' + gene[-1]\n",
    "    elif any(substring in gene for substring in greekLetters['Greek']):\n",
    "        for letter in greekLetters['Greek']:\n",
    "            LETTER = letter.upper()\n",
    "            if gene.__contains__(LETTER):\n",
    "                HGNC = gene.replace(LETTER, greekLetters.loc[greekLetters['Greek']==letter,'Abbrev'].values[0] )\n",
    "    else:\n",
    "        HGNC = gene\n",
    "    if HGNC in mapping[0]:\n",
    "        HGNC = mapping.iloc[mapping[0]==HGNC, 1]\n",
    "    return HGNC\n",
    "\n",
    "# Get list of all kinases in KEA2018\n",
    "import pandas as pd\n",
    "KEA2018 = pd.read_csv('../../X2k_Databases/KINASE/KEA_2018/KEA2018_KINASES.csv', header=None)#pd.read_csv(\"KEA/UberKeaFile.csv\")\n",
    "KEA2018.head()\n",
    "allKinases = KEA2018.iloc[:,2].unique().tolist()"
   ]
  },
  {
   "cell_type": "markdown",
   "metadata": {},
   "source": [
    "## Optimal X2K Parameters"
   ]
  },
  {
   "cell_type": "code",
   "execution_count": 3,
   "metadata": {},
   "outputs": [],
   "source": [
    "best_options = {\n",
    "    'TF-target gene background database used for enrichment': ['ChEA & ENCODE Consensus'],\n",
    "    'kinase interactions to include': 'kea 2018',\n",
    "    'enable_ppi': [ \n",
    "        'ppid',\n",
    "        'Stelzl',\n",
    "        'IntAct',\n",
    "        'MINT',\n",
    "        'BioGRID' \n",
    "    ],\n",
    "    'max_number_of_interactions_per_article': 1000000,\n",
    "    'max_number_of_interactions_per_protein': 200,\n",
    "    'min_network_size': 10,\n",
    "    'min_number_of_articles_supporting_interaction': 0,\n",
    "    'path_length': 2,\n",
    "    'included organisms in the background database': 'both'\n",
    "}"
   ]
  },
  {
   "cell_type": "markdown",
   "metadata": {},
   "source": [
    "## Run X2K Function"
   ]
  },
  {
   "cell_type": "code",
   "execution_count": 4,
   "metadata": {},
   "outputs": [],
   "source": [
    "import http.client\n",
    "import json\n",
    "\n",
    "def run_X2K(input_genes, options={}):\n",
    "    # Open HTTP connection\n",
    "    # conn = http.client.HTTPConnection(\"amp.pharm.mssm.edu\") #\n",
    "    conn = http.client.HTTPConnection(\"localhost:8080\", timeout=20)\n",
    "    # Get default options\n",
    "    default_options = {'text-genes': '\\n'.join(input_genes), 'included_organisms': 'both', 'included_database': 'ChEA 2015',\n",
    "                       'path_length': 2, 'minimum network size': 50, 'min_number_of_articles_supporting_interaction': 2,\n",
    "                       'max_number_of_interactions_per_protein': 200, 'max_number_of_interactions_per_article': 100,\n",
    "                       'biocarta': True, 'biogrid': True, 'dip': True, 'innatedb': True, 'intact': True, 'kegg': True, 'mint': True,\n",
    "                       'ppid': True, 'snavi': True, 'number_of_results': 50, 'sort_tfs_by': 'combined score', 'sort_kinases_by': 'combined score',\n",
    "                       'kinase interactions to include': 'kea 2018'}\n",
    "    # Update options\n",
    "    for key, value in options.items():\n",
    "        if key in default_options.keys() and key != 'text-genes':\n",
    "            default_options.update({key: value})\n",
    "    # Get payload\n",
    "    boundary = \"----WebKitFormBoundary7MA4YWxkTrZu0gW\"\n",
    "    payload = ''.join(['--'+boundary+'\\r\\nContent-Disposition: form-data; name=\\\"{key}\\\"\\r\\n\\r\\n{value}\\r\\n'.format(**locals()) for key, value in default_options.items()])+'--'+boundary+'--'\n",
    "    # Get Headers\n",
    "    headers = {\n",
    "        'content-type': \"multipart/form-data; boundary=\"+boundary,\n",
    "        'cache-control': \"no-cache\",\n",
    "    }\n",
    "    # Initialize connection\n",
    "    conn.request(\"POST\", \"/X2K/api\", payload, headers)\n",
    "    # Get response\n",
    "    res = conn.getresponse()\n",
    "    # Read response\n",
    "    data = res.read().decode('utf-8')\n",
    "    # Convert to dictionary\n",
    "    x2k_results = {key: json.loads(value) if key != 'input' else value for key, value in json.loads(data).items()}\n",
    "    # Clean results\n",
    "    x2k_results['ChEA'] = x2k_results['ChEA']['tfs']\n",
    "    x2k_results['G2N'] = x2k_results['G2N']['network']\n",
    "    x2k_results['KEA'] = x2k_results['KEA']['kinases']\n",
    "    x2k_results['X2K'] = x2k_results['X2K']['network']\n",
    "    # Return results\n",
    "    return x2k_results\n"
   ]
  },
  {
   "cell_type": "markdown",
   "metadata": {},
   "source": [
    "## Run X2K Iteratively over GMT"
   ]
  },
  {
   "cell_type": "code",
   "execution_count": 5,
   "metadata": {},
   "outputs": [],
   "source": [
    "def parse_GEO_line(line):\n",
    "    lineSp = line.split('\\t')\n",
    "    expt_name = lineSp[0]\n",
    "    genes = [str(x.strip(',1.0')) for x in lineSp[2:-1]]\n",
    "    return expt_name, genes\n",
    "\n",
    "def prepare_options_for_x2k(input_genes, x2k_options):\n",
    "    options = x2k_options.copy()\n",
    "    # Add input_genes\n",
    "    options['text-genes'] = input_genes\n",
    "    # Convert ppi into enable flags\n",
    "    for ppi in options['enable_ppi']:\n",
    "        options['enable_' + ppi] = 'true'\n",
    "    del options['enable_ppi']\n",
    "    # Convert any lists\n",
    "    return {\n",
    "        k: '\\n'.join(v) if type(v) == list else str(v)\n",
    "        for k, v in options.items() \n",
    "    }\n",
    "\n",
    "def run_x2k_over_experiments(experiments_GMT, x2k_options, binaryString='NA'):\n",
    "    all_x2k_results = {}\n",
    "    errors=[]\n",
    "    with open(experiments_GMT) as gmt:\n",
    "        GMT = gmt.readlines()\n",
    "    for i,line in enumerate(GMT):\n",
    "        # Get experiment name and input genes\n",
    "        expt_name, input_genes = parse_GEO_line(line)\n",
    "        ## Standardize input genes\n",
    "        #input_genes = [standardizeGeneSymbol(g) for g in input_genes]\n",
    "        #print(str(i)+\" : \"+expt_name)\n",
    "        # Prepare options\n",
    "        options = prepare_options_for_x2k(input_genes, x2k_options)\n",
    "        # Run x2k API\n",
    "        try:\n",
    "            x2k_results = run_X2K(input_genes=input_genes, options=options)\n",
    "             # Modify results\n",
    "            x2k_results['Experiment'] = expt_name\n",
    "            x2k_results['x2k_options'] = options\n",
    "            x2k_results['binaryString'] = binaryString\n",
    "            all_x2k_results[i] = x2k_results\n",
    "        except:\n",
    "            print(\"^ couldn't process: skipping\")\n",
    "            errors.append(expt_name) \n",
    "            continue\n",
    "    print(\"ERRORS: \")\n",
    "    print(errors)\n",
    "    print()\n",
    "    return all_x2k_results\n",
    "\n",
    " # all_x2k_results, errors = run_x2k_over_experiments(experiments_GMT='GEO.txt', x2k_options=best_options)"
   ]
  },
  {
   "cell_type": "markdown",
   "metadata": {},
   "source": [
    "## Run X2K Web with each database"
   ]
  },
  {
   "cell_type": "code",
   "execution_count": 6,
   "metadata": {},
   "outputs": [],
   "source": [
    "kinase_dbs = ['kea 2018',\n",
    "        'ARCHS4',\n",
    "        'iPTMnet',\n",
    "        'NetworkIN',\n",
    "        'Phospho.ELM',\n",
    "        'Phosphopoint',\n",
    "        'PhosphoPlus',\n",
    "        'MINT']\n",
    "\n",
    "def run_X2K_over_kinase_dbs(kinase_dbs, best_options, experiments_GMT):\n",
    "    x2k_kinase_db_results={}\n",
    "    selected_options = best_options.copy()\n",
    "    for db in kinase_dbs:\n",
    "        print('Processing: X2K with '+db)\n",
    "        selected_options[\"kinase interactions to include\"] = db\n",
    "        x2k_kinase_db_results[db] = run_x2k_over_experiments(experiments_GMT, x2k_options=selected_options)\n",
    "        print(x2k_kinase_db_results[db][0]['x2k_options'])\n",
    "    return x2k_kinase_db_results"
   ]
  },
  {
   "cell_type": "markdown",
   "metadata": {},
   "source": [
    "## Save X2K Results"
   ]
  },
  {
   "cell_type": "code",
   "execution_count": null,
   "metadata": {},
   "outputs": [],
   "source": [
    "import pickle\n",
    "## UP\n",
    "x2k_kinase_db_results_UP = run_X2K_over_kinase_dbs(kinase_dbs, best_options, experiments_GMT='Kinase_Perturbations_from_GEO_up.txt')\n",
    "pickle.dump( x2k_kinase_db_results_UP, open( \"x2kResults_eachKinaseDB_UP.pkl\", \"wb\" ) )\n",
    "## DN\n",
    "x2k_kinase_db_results_DN = run_X2K_over_kinase_dbs(kinase_dbs, best_options, experiments_GMT='Kinase_Perturbations_from_GEO_down.txt')\n",
    "pickle.dump( x2k_kinase_db_results_DN, open( \"x2kResults_eachKinaseDB_DN.pkl\", \"wb\" ) )"
   ]
  },
  {
   "cell_type": "markdown",
   "metadata": {},
   "source": [
    "# KEA"
   ]
  },
  {
   "cell_type": "markdown",
   "metadata": {},
   "source": [
    "## Run KEA (X2K_Web version)"
   ]
  },
  {
   "cell_type": "code",
   "execution_count": null,
   "metadata": {},
   "outputs": [],
   "source": [
    "% cd Kinase_Enrichment_Comparisons\n",
    "\n",
    "import pandas as pd\n",
    "import os \n",
    "from time import sleep\n",
    "\n",
    "def create_geneList_file(geneList):\n",
    "    with open('KEA/geneList.txt','w') as file:\n",
    "        for g in geneList:\n",
    "            file.write(g+'\\n')\n",
    "\n",
    "def return_kea_results():\n",
    "    KEAout = pd.read_csv('KEA/KEA_output.csv', header=None, index_col=False)\n",
    "    KEAout.columns = ['Kinase','number of substrates in the input gene-list', 'number of genes that are substrates of the kinase',\\\n",
    "                      'fraction of genes that are substrates compared to total number of genes in gene-list',\\\n",
    "                      'fraction of genes that are substrates compared to total number of genes in background',\\\n",
    "                      'difference between the background fraction and the substrate-list fraction',\\\n",
    "                      'pvalue', 'ztest_rank', 'combined_score','substrates']\n",
    "    resultsDict = dict(zip(KEAout['Kinase'], KEAout['pvalue']))\n",
    "    return resultsDict\n",
    "\n",
    " \n",
    "def run_KEA_old(experiments_GMT, KEA_summary_path, kinaseDatabase):\n",
    "    finalDict={}\n",
    "    try: \n",
    "        with open(experiments_GMT) as file:\n",
    "            input_GMT = file.readlines()\n",
    "    except:\n",
    "        pd.DataFrame(finalDict).to_csv(KEA_summary_path, sep='\\t', header=True, index=None, na_rep='NA')\n",
    "        return finalDict\n",
    "    for line in input_GMT:\n",
    "        # Delete old files\n",
    "        try:\n",
    "            os.remove('KEA/KEA_output.csv')\n",
    "        except: print(\"No files to delete\")\n",
    "        try:\n",
    "            os.remove('KEA/geneList.txt')\n",
    "        except: print(\"No files to delete\")\n",
    "\n",
    "        while os.path.exists('KEA/geneList.txt') or os.path.exists('KEA/KEA_output.csv'):\n",
    "            print(\"Nap time\")\n",
    "            sleep(.5)\n",
    "        \n",
    "        # Create gene list\n",
    "        lineSp = line.split('\\t')\n",
    "        expt = lineSp[0]\n",
    "        genes = [x.strip(',1.0') for x in lineSp[2:-1]]\n",
    "        print(\"Processing: \"+expt)\n",
    "        # Create gene list txt file\n",
    "        print(expt+': Creating genList file')\n",
    "        create_geneList_file(genes)\n",
    "        print('Waiting for KEA_output')\n",
    "        while not os.path.exists('KEA/geneList.txt'):\n",
    "            sleep(.5) \n",
    "        # Run KEA command line\n",
    "        ##print('Running KEA')\n",
    "        os.system('/Library/Java/JavaVirtualMachines/1.6.0.jdk/Contents/Home/bin/java '+\\\n",
    "                  ' -jar'+' KEA/KEA-1.5-SNAPSHOT-jar-with-dependencies.jar'+' KEA/resources/'+kinaseDatabase+\"_KINASES.csv\"\\\n",
    "                  ' KEA/geneList.txt'+ ' KEA/KEA_output.csv')\n",
    "        # Sleep until the file is ready\n",
    "        print('Waiting for KEA_output')\n",
    "        while not os.path.exists('KEA/KEA_output.csv'):\n",
    "            sleep(.5)\n",
    "        # Read in KEA output and process\n",
    "        print(expt+' : Adding to results dict')\n",
    "        finalDict[expt] = return_kea_results() #*** Control whether you what values are in final DF\n",
    "    \n",
    "    pd.DataFrame(finalDict).to_csv(KEA_summary_path, sep='\\t', header=True, index=None, na_rep='NA')\n",
    "    return finalDict"
   ]
  },
  {
   "cell_type": "markdown",
   "metadata": {},
   "source": [
    "## Run KEA with each database"
   ]
  },
  {
   "cell_type": "code",
   "execution_count": null,
   "metadata": {},
   "outputs": [],
   "source": [
    "kinase_dbs_KEA = ['KEA_2018',\n",
    "        'ARCHS4',\n",
    "        'iPTMnet',\n",
    "        'NetworkIN',\n",
    "        'Phospho.ELM',\n",
    "        'Phosphopoint',\n",
    "        'PhosphositePlus',\n",
    "        'MINT']\n",
    "\n",
    "def run_KEA_over_kinase_dbs(kinase_dbs_KEA, experiments_GMT):\n",
    "    KEA_kinase_db_results={}\n",
    "    for db in kinase_dbs_KEA:\n",
    "        print(db)\n",
    "        KEA_kinase_db_results[db] = run_KEA_old(experiments_GMT, KEA_summary_path='KEAsummary.txt', kinaseDatabase=db)\n",
    "    return KEA_kinase_db_results\n",
    "\n",
    "\n",
    "import pickle\n",
    "## UP\n",
    "KEA_kinase_db_results_UP = run_KEA_over_kinase_dbs(kinase_dbs_KEA, experiments_GMT='Kinase_Perturbations_from_GEO_up.txt')\n",
    "pickle.dump( KEA_kinase_db_results_UP, open( \"KEAresults_eachKinaseDB_UP.pkl\", \"wb\" ) )\n",
    "## DN\n",
    "KEA_kinase_db_results_DN = run_KEA_over_kinase_dbs(kinase_dbs_KEA, experiments_GMT='Kinase_Perturbations_from_GEO_down.txt')\n",
    "pickle.dump( x2k_kinase_db_results_DN, open( \"KEAresults_eachKinaseDB_DN.pkl\", \"wb\" ) )"
   ]
  }
 ],
 "metadata": {
  "hide_input": false,
  "kernelspec": {
   "display_name": "Python 3",
   "language": "python",
   "name": "python3"
  },
  "language_info": {
   "codemirror_mode": {
    "name": "ipython",
    "version": 3.0
   },
   "file_extension": ".py",
   "mimetype": "text/x-python",
   "name": "python",
   "nbconvert_exporter": "python",
   "pygments_lexer": "ipython3",
   "version": "3.6.3"
  }
 },
 "nbformat": 4,
 "nbformat_minor": 0
}