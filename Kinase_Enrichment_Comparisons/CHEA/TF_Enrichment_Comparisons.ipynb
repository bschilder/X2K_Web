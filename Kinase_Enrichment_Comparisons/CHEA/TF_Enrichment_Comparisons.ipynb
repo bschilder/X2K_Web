{
 "cells": [
  {
   "cell_type": "markdown",
   "metadata": {
    "collapsed": true
   },
   "source": [
    "# TF-Enrichment"
   ]
  },
  {
   "cell_type": "code",
   "execution_count": null,
   "metadata": {},
   "outputs": [],
   "source": [
    "\n",
    "def create_geneList_file(geneList):\n",
    "    with open('CHEA/geneList.txt','w') as file:\n",
    "        for g in geneList:\n",
    "            file.write(g+'\\n')\n",
    "\n",
    "#create_DF_from_KEAoutput  \n",
    "def create_DF_from_KEAoutput(expt, finalDF):\n",
    "    KEAout = pd.read_csv('CHEA/CHEA_output.csv', header=None, index_col=False)\n",
    "    KEAout.head()\n",
    "    KEAout.columns = ['Kinase','number of substrates in the input gene-list', 'number of genes that are substrates of the kinase',\\\n",
    "                      'fraction of genes that are substrates compared to total number of genes in gene-list',\\\n",
    "                      'fraction of genes that are substrates compared to total number of genes in background',\\\n",
    "                      'difference between the background fraction and the substrate-list fraction',\\\n",
    "                      'pvalue', 'ztest_rank', 'combined_score','substrates']\n",
    "    KEAout.index = KEAout['Kinase']\n",
    "    KEA_sort = KEAout.sort_values(by='pvalue')\n",
    "    KEA_sort[expt] = range(0,len(KEA_sort))\n",
    "    newDF = KEA_sort[['Kinase',expt]]\n",
    "    finalDF = finalDF.merge(newDF, on='Kinase', how='outer')\n",
    "    return finalDF\n",
    "\n",
    "def return_negLog(expt, finalDF):\n",
    "    KEAout = pd.read_csv('KEA/KEA_output.csv', header=None, index_col=False)\n",
    "    KEAout.columns = ['Kinase','number of substrates in the input gene-list', 'number of genes that are substrates of the kinase',\\\n",
    "                      'fraction of genes that are substrates compared to total number of genes in gene-list',\\\n",
    "                      'fraction of genes that are substrates compared to total number of genes in background',\\\n",
    "                      'difference between the background fraction and the substrate-list fraction',\\\n",
    "                      'pvalue', 'ztest_rank', 'combined_score','substrates']\n",
    "    KEAout.index = KEAout['Kinase']\n",
    "    KEAout.head()\n",
    "    # Create -log(pvalue)\n",
    "    KEAout['-log(pvalue)'] = -np.log(pd.to_numeric(KEAout['pvalue']))\n",
    "    KEA_sort = KEAout.sort_values(by=['-log(pvalue)'])[['Kinase','-log(pvalue)']] #** Select values to put in newDF\n",
    "    KEA_sort.columns = ['Kinase', expt]\n",
    "    finalDF = finalDF.merge(KEA_sort, on='Kinase', how='outer')\n",
    "    return finalDF\n",
    "    \n",
    "    "
   ]
  },
  {
   "cell_type": "code",
   "execution_count": null,
   "metadata": {},
   "outputs": [],
   "source": [
    "# CHEA-specific\n",
    "import pandas as pd\n",
    "import numpy as np\n",
    "import os \n",
    "from time import sleep\n",
    "   \n",
    "def run_CHEA_old(inputGMT, KEA_summary_file, replaceNAs=True):\n",
    "    with open(inputGMT) as file:\n",
    "        input_GMT = file.readlines()\n",
    "    #input_GMT = input_GMT[0:10]\n",
    "    finalDF=pd.DataFrame(columns=['Kinase'])\n",
    "    for line in input_GMT:\n",
    "        # Delete old files\n",
    "        try:\n",
    "            os.remove('CHEA/CHEA_output.csv')\n",
    "            os.remove('CHEA/geneList.txt')\n",
    "        except:\n",
    "            print(\"No files to delete\")\n",
    "        while os.path.exists('KEA/geneList.txt') or os.path.exists('CHEA/CHEA_output.csv'):\n",
    "            sleep(.5)\n",
    "        \n",
    "        # Create gene list\n",
    "        lineSp = line.split('\\t')\n",
    "        expt = lineSp[0]\n",
    "        genes = [x.strip(',1.0') for x in lineSp[2:-1]]\n",
    "        print(\"Processing: \"+expt)\n",
    "        # Create gene list txt file\n",
    "        print(expt+': Creating genList file')\n",
    "        create_geneList_file(genes)\n",
    "        print('Waiting for KEA_output')\n",
    "        while not os.path.exists('KEA/geneList.txt'):\n",
    "            sleep(.5) \n",
    "        # Run KEA command line\n",
    "        # result = subprocess.run(['/Library/Java/JavaVirtualMachines/1.6.0.jdk/Contents/Home/bin/java','-jar',\\\n",
    "        #                          'KEA/KEA-1.5-SNAPSHOT-jar-with-dependencies.jar','KEA/UberKeaFile.csv',\\\n",
    "        #                          'KEA/geneList.txt KEA/KEA_output.csv'] )\n",
    "        # result.stdout.decode('utf-8')\n",
    "        print('Running KEA')\n",
    "        os.system('/Library/Java/JavaVirtualMachines/1.6.0.jdk/Contents/Home/bin/java '+\\\n",
    "                  ' -jar'+' KEA/KEA-1.5-SNAPSHOT-jar-with-dependencies.jar'+' ../../X2K_Databases/KINASE/KEA_2018/KEA2018_KINASES.csv'+\\\n",
    "                  ' KEA/geneList.txt'+ ' KEA/KEA_output.csv')\n",
    "        # Sleep until the file is ready\n",
    "        print('Waiting for KEA_output')\n",
    "        while not os.path.exists('KEA/KEA_output.csv'):\n",
    "            sleep(.5)\n",
    "            \n",
    "        # Read in KEA output and process\n",
    "        print(expt+' : Creating dataframe')\n",
    "        \n",
    "        finalDF = return_negLog(expt, finalDF) #*** Control whether you what values are in final DF\n",
    "        if replaceNAs==True:\n",
    "            finalDF = replace_NAs_with_random_rank(finalDF)\n",
    "        \n",
    "    finalDF.to_csv(KEA_summary_file, sep='\\t', header=True, index=None, na_rep='NA')\n",
    "    return finalDF\n",
    "\n",
    "run_CHEA_old(inputGMT='GEO.txt', )\n"
   ]
  },
  {
   "cell_type": "code",
   "execution_count": null,
   "metadata": {},
   "outputs": [],
   "source": [
    "CHEA_UP = run_CHEA_old(inputGMT='Kinase_Perturbations_from_GEO_up.txt', KEA_summary_file='CHEA_output_NAsfilled_UP.txt', replaceNAs=True)\n",
    "CHEA_DN = run_CHEA_old(inputGMT='Kinase_Perturbations_from_GEO_down.txt', KEA_summary_file='CHEA_output_NAsfilled_DN.txt', replaceNAs=True)\n"
   ]
  }
 ],
 "metadata": {
  "kernelspec": {
   "display_name": "Python 2",
   "language": "python",
   "name": "python2"
  },
  "language_info": {
   "codemirror_mode": {
    "name": "ipython",
    "version": 2.0
   },
   "file_extension": ".py",
   "mimetype": "text/x-python",
   "name": "python",
   "nbconvert_exporter": "python",
   "pygments_lexer": "ipython2",
   "version": "2.7.6"
  }
 },
 "nbformat": 4,
 "nbformat_minor": 0
}